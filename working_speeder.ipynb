{
 "cells": [
  {
   "cell_type": "markdown",
   "metadata": {},
   "source": [
    "### Get Audio Segments"
   ]
  },
  {
   "cell_type": "code",
   "execution_count": null,
   "metadata": {},
   "outputs": [],
   "source": [
    "from pydub import AudioSegment\n",
    "import os\n",
    "\n",
    "def get_audio_segments(audio_path, segment_dir, speed_up_start, speed_up_end, slow_down_start, slow_down_end):\n",
    "\n",
    "  # Load the audio\n",
    "  sound = AudioSegment.from_wav(audio_path)\n",
    "  for i in range(5):\n",
    "    os.makedirs(os.path.join(segment_dir, str(i)), exist_ok=True)\n",
    "\n",
    "  # 0: First section (normal speed)\n",
    "  sound[:speed_up_start * 1000].export(f'{segment_dir}/0/segment-0.wav', format=\"wav\")\n",
    "\n",
    "  # 1: Speeding up section\n",
    "  for i in range(10):\n",
    "    start = (speed_up_start + (i/10)*(speed_up_end-speed_up_start)) * 1000 if not i == 0 else speed_up_start * 1000\n",
    "    end = (speed_up_start + ((i+1)/10)*(speed_up_end-speed_up_start)) * 1000 if not i == 9 else speed_up_end * 1000\n",
    "    sound[start:end].export(f'{segment_dir}/1/segment-{i}.wav', format=\"wav\")\n",
    "\n",
    "  # 2: Constant speed section\n",
    "  sound[speed_up_end * 1000:slow_down_start * 1000].export(f'{segment_dir}/2/segment-0.wav', format=\"wav\")\n",
    "  \n",
    "  # 3: Speeding up section\n",
    "  for i in range(10):\n",
    "    start = (slow_down_start + (i/10)*(slow_down_end-slow_down_start)) * 1000 if not i == 0 else slow_down_start * 1000\n",
    "    end = (slow_down_start + ((i+1)/10)*(slow_down_end-slow_down_start)) * 1000 if not i == 9 else slow_down_end * 1000\n",
    "    sound[start:end].export(f'{segment_dir}/3/segment-{i}.wav', format=\"wav\")\n",
    "\n",
    "  # 4: Last section (normal speed)\n",
    "  sound[slow_down_end * 1000:].export(f'{segment_dir}/4/segment-0.wav', format=\"wav\")\n",
    "  \n",
    "  # for index, item in enumerate(sections):\n",
    "  #   item.export(f'audio_segments/segment-{index}.wav', format=\"wav\")  # Saving Each Segments\n",
    "  #   print(f'Audio speed changed and saved as audio_segments/segment-{index}.wav')\n",
    "\n",
    "\n",
    "# Define your audio file path\n",
    "audio_path = \"test/set-1.wav\" \n",
    "segment_dir = \"audio_segments\"\n",
    "# Define speed change points (in seconds)\n",
    "speed_up_start = 2\n",
    "speed_up_end = 30\n",
    "slow_down_start = 60\n",
    "slow_down_end = 80\n",
    "# max_speed = 2  # Multiplier for speeding up (e.g., 1.5 = 50% faster)\n",
    "\n",
    "get_audio_segments(audio_path, segment_dir, speed_up_start, speed_up_end, slow_down_start, slow_down_end)"
   ]
  },
  {
   "cell_type": "markdown",
   "metadata": {},
   "source": [
    "### Merge Audio Segments"
   ]
  },
  {
   "cell_type": "code",
   "execution_count": null,
   "metadata": {},
   "outputs": [],
   "source": [
    "import soundfile as sf\n",
    "import numpy as np\n",
    "\n",
    "def merge_audio_files(input_dir, output_path):\n",
    "    # Initialize an empty list to hold the data of all audio files\n",
    "    data = []\n",
    "    \n",
    "    # Iterate through each file path\n",
    "    # for file_path in file_paths:\n",
    "    for i in range(5):\n",
    "        for item in range(len(os.listdir(os.path.join(input_dir, str(i))))):\n",
    "            file = os.path.join(input_dir, str(i), 'segment-'+str(item)+'.wav')\n",
    "            \n",
    "            # Read the audio data and sampling rate\n",
    "            audio_data, samplerate = sf.read(file)\n",
    "            # Append the audio data to the list\n",
    "            data.append(audio_data)\n",
    "    \n",
    "    # Concatenate the audio data along the time axis\n",
    "    merged_data = np.concatenate(data)\n",
    "    \n",
    "    # Write the merged audio data to a new file\n",
    "    sf.write(output_path, merged_data, samplerate)\n",
    "    print(\"Audio files merged successfully!\")\n",
    "\n",
    "# Example usage:\n",
    "input_dir = 'audio_segments'  # Replace with your file paths\n",
    "output_path = \"audio_segments/merged_audio.wav\"  # Replace with your desired output path\n",
    "merge_audio_files(input_dir, output_path)"
   ]
  },
  {
   "cell_type": "markdown",
   "metadata": {},
   "source": [
    "### Get Progressive Stretching"
   ]
  },
  {
   "cell_type": "code",
   "execution_count": null,
   "metadata": {},
   "outputs": [],
   "source": [
    "from io import BytesIO\n",
    "from audiostretchy.stretch import stretch_audio\n",
    "import soundfile as sf\n",
    "import os\n",
    "\n",
    "# Define the input and output file paths\n",
    "input_file = \"test/set-1.wav\"\n",
    "output_file = \"output_speedup.wav\"\n",
    "\n",
    "def get_progressing_speeding(input_dir, processing_dir, max_speed):\n",
    "    \n",
    "    output_segment_dir = os.path.join(processing_dir, '1')\n",
    "    os.makedirs(output_segment_dir, exist_ok=True)\n",
    "    for item in range(len(os.listdir(os.path.join(input_dir, '1')))):\n",
    "        file = os.path.join(input_dir, '1', 'segment-'+str(item)+'.wav')\n",
    "        output_segment_path = os.path.join(output_segment_dir, 'segment-'+str(item)+'.wav')\n",
    "        stretch_audio(file, output_segment_path, ratio=(1/(1+item*((max_speed-1)/10))))\n",
    "\n",
    "    output_segment_dir = os.path.join(processing_dir, '2')\n",
    "    os.makedirs(output_segment_dir, exist_ok=True)\n",
    "    file = os.path.join(input_dir, '2', 'segment-0.wav')\n",
    "    stretch_audio(file, output_segment_path, ratio=(1/max_speed))\n",
    "\n",
    "    output_segment_dir = os.path.join(processing_dir, '3')\n",
    "    os.makedirs(output_segment_dir, exist_ok=True)\n",
    "    for item in range(len(os.listdir(os.path.join(input_dir, '3')))):\n",
    "        file = os.path.join(input_dir, '3', 'segment-'+str(item)+'.wav')\n",
    "        output_segment_path = os.path.join(output_segment_dir, 'segment-'+str(item)+'.wav')\n",
    "        stretch_audio(file, output_segment_path, ratio=(1/(max_speed-item*((max_speed-1)/10))))\n",
    "\n",
    "get_progressing_speeding('audio_segments', 'processing_segments', 1.5)"
   ]
  },
  {
   "cell_type": "markdown",
   "metadata": {},
   "source": [
    "### Merge Final Audio Segments"
   ]
  },
  {
   "cell_type": "code",
   "execution_count": null,
   "metadata": {},
   "outputs": [],
   "source": [
    "def temp_merge_audio_files(input_dir, output_path):\n",
    "    # Initialize an empty list to hold the data of all audio files\n",
    "    data = []\n",
    "\n",
    "    audio_data, samplerate = sf.read('audio_segments/0/segment-0.wav')\n",
    "    data.append(audio_data)\n",
    "    \n",
    "    # Iterate through each file path\n",
    "    for i in range(1, 4):\n",
    "        for item in range(len(os.listdir(os.path.join(input_dir, str(i))))):\n",
    "            file = os.path.join(input_dir, str(i), 'segment-'+str(item)+'.wav')\n",
    "            \n",
    "            # Read the audio data and sampling rate\n",
    "            audio_data, samplerate = sf.read(file)\n",
    "            # Append the audio data to the list\n",
    "            data.append(audio_data)\n",
    "\n",
    "    audio_data, samplerate = sf.read('audio_segments/4/segment-0.wav')\n",
    "    data.append(audio_data)\n",
    "    \n",
    "    # Concatenate the audio data along the time axis\n",
    "    merged_data = np.concatenate(data)\n",
    "    \n",
    "    # Write the merged audio data to a new file\n",
    "    sf.write(output_path, merged_data, samplerate)\n",
    "    print(\"Audio files merged successfully!\")\n",
    "\n",
    "# Example usage:\n",
    "input_dir = 'processing_segments'  # Replace with your file paths\n",
    "output_path = \"processing_segments/merged_audio.wav\"  # Replace with your desired output path\n",
    "temp_merge_audio_files(input_dir, output_path)"
   ]
  }
 ],
 "metadata": {
  "kernelspec": {
   "display_name": "venv",
   "language": "python",
   "name": "python3"
  },
  "language_info": {
   "name": "python",
   "version": "3.10.12"
  }
 },
 "nbformat": 4,
 "nbformat_minor": 2
}
